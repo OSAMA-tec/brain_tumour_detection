{
  "nbformat": 4,
  "nbformat_minor": 0,
  "metadata": {
    "colab": {
      "provenance": [],
      "gpuType": "T4"
    },
    "kernelspec": {
      "name": "python3",
      "display_name": "Python 3"
    },
    "language_info": {
      "name": "python"
    },
    "accelerator": "GPU"
  },
  "cells": [
    {
      "cell_type": "code",
      "execution_count": null,
      "metadata": {
        "colab": {
          "base_uri": "https://localhost:8080/"
        },
        "id": "BplRsOMHCNXV",
        "outputId": "5ec1eb27-d81f-4b8f-f7c1-83149d471ca3"
      },
      "outputs": [
        {
          "output_type": "stream",
          "name": "stdout",
          "text": [
            "Mounted at /content/drive\n"
          ]
        }
      ],
      "source": [
        "from google.colab import drive # loads a library to mount your google drive\n",
        "drive.mount('/content/drive')"
      ]
    },
    {
      "cell_type": "code",
      "source": [
        "import numpy as np\n",
        "import pandas as pd\n",
        "from keras.models import Sequential\n",
        "from PIL import Image\n",
        "import tensorflow as tf\n",
        "import cv2\n",
        "import seaborn as sns\n",
        "from tensorflow.keras.optimizers import Adamax\n",
        "from tensorflow.keras.metrics import Precision, Recall\n",
        "import os\n",
        "from tqdm import tqdm\n",
        "import imutils\n",
        "import keras\n",
        "from keras.applications import resnet\n",
        "from keras import backend as K\n",
        "from keras.layers import Dense,Flatten,Dropout,Conv2D,MaxPooling2D,BatchNormalization,Activation,GlobalAveragePooling2D\n",
        "from keras.optimizers import Adam\n",
        "from keras.preprocessing.image import ImageDataGenerator\n",
        "from keras.preprocessing import image\n",
        "from keras.applications import imagenet_utils\n",
        "from sklearn.model_selection import train_test_split\n",
        "from sklearn.metrics import classification_report, confusion_matrix\n",
        "import itertools\n",
        "import matplotlib.pyplot as plt\n",
        "IMG_SIZE = 32\n",
        "training =  \"/content/drive/My Drive/Dataset_tumor/Training/\"\n",
        "testing = '/content/drive/My Drive/Dataset_tumor/Testing/'\n"
      ],
      "metadata": {
        "id": "6N7zZ_ZeCnLs"
      },
      "execution_count": null,
      "outputs": []
    },
    {
      "cell_type": "code",
      "source": [
        "trainData=[]\n",
        "trainLabels=[]\n",
        "\n",
        "for root, _, files in os.walk('/content/drive/My Drive/Dataset_tumor/Training/notumor'):\n",
        "  for file in files:\n",
        "    if file.endswith('.jpg'):\n",
        "      image_path = os.path.join(root,file)\n",
        "      if 'notumor' in image_path:\n",
        "        label = 0\n",
        "        image = cv2.imread(image_path)\n",
        "        image = cv2.resize(image,(224,224))\n",
        "        image_array = np.array(image)\n",
        "        trainData.append(image_array)\n",
        "        trainLabels.append(label)\n",
        "        #print(f\"Image Path: {image_path}, Label: {label}\")\n",
        "for root, _, files in os.walk('/content/drive/My Drive/Dataset_tumor/Training/glioma_tumor'):\n",
        "  for file in files:\n",
        "    if file.endswith('.jpg'):\n",
        "      image_path = os.path.join(root,file)\n",
        "      if 'glioma' in image_path:\n",
        "        label = 1\n",
        "        image = cv2.imread(image_path)\n",
        "        image = cv2.resize(image,(224,224))\n",
        "        image_array = np.array(image)\n",
        "        trainData.append(image_array)\n",
        "        trainLabels.append(label)\n",
        "        #print(f\"Image Path: {image_path}, Label: {label}\")\n",
        "for root, _, files in os.walk('/content/drive/My Drive/Dataset_tumor/Training/pituitary_tumor'):\n",
        "  for file in files:\n",
        "    if file.endswith('.jpg'):\n",
        "      image_path = os.path.join(root,file)\n",
        "      if 'pituitary' in image_path:\n",
        "        label = 2\n",
        "        image = cv2.imread(image_path)\n",
        "        image = cv2.resize(image,(224,224))\n",
        "        image_array = np.array(image)\n",
        "        trainData.append(image_array)\n",
        "        trainLabels.append(label)\n",
        "        #print(f\"Image Path: {image_path}, Label: {label}\")\n",
        "for root, _, files in os.walk('/content/drive/My Drive/Dataset_tumor/Training/meningioma_tumor'):\n",
        "  for file in files:\n",
        "    if file.endswith('.jpg'):\n",
        "      image_path = os.path.join(root,file)\n",
        "      if 'meningioma' in image_path:\n",
        "        label = 3\n",
        "        image = cv2.imread(image_path)\n",
        "        image = cv2.resize(image,(224,224))\n",
        "        image_array = np.array(image)\n",
        "        trainData.append(image_array)\n",
        "        trainLabels.append(label)"
      ],
      "metadata": {
        "id": "nD5eIp5gDLvF"
      },
      "execution_count": null,
      "outputs": []
    },
    {
      "cell_type": "code",
      "source": [
        "len(trainData)"
      ],
      "metadata": {
        "colab": {
          "base_uri": "https://localhost:8080/"
        },
        "id": "-tEpJtQ9J4Zy",
        "outputId": "64d52ece-1e6b-4a43-ccea-25e819e2d7b9"
      },
      "execution_count": null,
      "outputs": [
        {
          "output_type": "execute_result",
          "data": {
            "text/plain": [
              "2475"
            ]
          },
          "metadata": {},
          "execution_count": 17
        }
      ]
    },
    {
      "cell_type": "code",
      "source": [
        "testData=[]\n",
        "testLabels=[]\n",
        "\n",
        "for root, _, files in os.walk('/content/drive/My Drive/Dataset_tumor/Testing/notumor'):\n",
        "  for file in files:\n",
        "    if file.endswith('.jpg'):\n",
        "      image_path = os.path.join(root,file)\n",
        "      if 'notumor' in image_path:\n",
        "        label = 0\n",
        "        image = cv2.imread(image_path)\n",
        "        image = cv2.resize(image,(224,224))\n",
        "        image_array = np.array(image)\n",
        "        testData.append(image_array)\n",
        "        testLabels.append(label)\n",
        "        #print(f\"Image Path: {image_path}, Label: {label}\")\n",
        "for root, _, files in os.walk('/content/drive/My Drive/Dataset_tumor/Testing/glioma_tumor'):\n",
        "  for file in files:\n",
        "    if file.endswith('.jpg'):\n",
        "      image_path = os.path.join(root,file)\n",
        "      if 'glioma' in image_path:\n",
        "        label = 1\n",
        "        image = cv2.imread(image_path)\n",
        "        image = cv2.resize(image,(224,224))\n",
        "        image_array = np.array(image)\n",
        "        testData.append(image_array)\n",
        "        testLabels.append(label)\n",
        "        #print(f\"Image Path: {image_path}, Label: {label}\")\n",
        "for root, _, files in os.walk('/content/drive/My Drive/Dataset_tumor/Testing/pituitary_tumor'):\n",
        "  for file in files:\n",
        "    if file.endswith('.jpg'):\n",
        "      image_path = os.path.join(root,file)\n",
        "      if 'pituitary' in image_path:\n",
        "        label = 2\n",
        "        image = cv2.imread(image_path)\n",
        "        image = cv2.resize(image,(224,224))\n",
        "        image_array = np.array(image)\n",
        "        testData.append(image_array)\n",
        "        testLabels.append(label)\n",
        "        #print(f\"Image Path: {image_path}, Label: {label}\")\n",
        "for root, _, files in os.walk('/content/drive/My Drive/Dataset_tumor/Testing/meningioma_tumor'):\n",
        "  for file in files:\n",
        "    if file.endswith('.jpg'):\n",
        "      image_path = os.path.join(root,file)\n",
        "      if 'meningioma' in image_path:\n",
        "        label = 3\n",
        "        image = cv2.imread(image_path)\n",
        "        image = cv2.resize(image,(224,224))\n",
        "        image_array = np.array(image)\n",
        "        testData.append(image_array)\n",
        "        testLabels.append(label)"
      ],
      "metadata": {
        "id": "G3TjpypbEHCM"
      },
      "execution_count": null,
      "outputs": []
    },
    {
      "cell_type": "code",
      "source": [
        "from keras.utils import to_categorical\n",
        "X_train = trainData\n",
        "y_train = trainLabels\n",
        "X_test = testData\n",
        "y_test = testLabels\n",
        "\n",
        "y_train = to_categorical(y_train, num_classes=4)\n",
        "y_test = to_categorical(y_test, num_classes=4)\n",
        "\n",
        "X_val, X_test = train_test_split(X_test, train_size=.3, random_state=20)\n",
        "y_val, y_test = train_test_split(y_test, train_size=.3, random_state=20)\n",
        "\n",
        "y_train = np.array(y_train)\n",
        "y_test = np.array(y_test)\n",
        "y_val = np.array(y_val)\n",
        "X_train = np.array(X_train)\n",
        "X_test = np.array(X_test)\n",
        "X_val = np.array(X_val)\n",
        "\n",
        "\n",
        "print(f\"Shape of images in X_train: {X_train.shape}\")\n",
        "print(f\"Shape of images in X_test: {X_test.shape}\")\n",
        "print(f\"Shape of images in X_val: {X_val.shape}\")\n",
        "print(f\"Shape of images in y_train: {y_train.shape}\")\n",
        "print(f\"Shape of images in y_test: {y_test.shape}\")\n",
        "print(f\"Shape of images in y_val: {y_val.shape}\")"
      ],
      "metadata": {
        "colab": {
          "base_uri": "https://localhost:8080/"
        },
        "id": "S1N42gDnEqvV",
        "outputId": "6f88e9e8-81c9-467b-f307-20a34b6cd6da"
      },
      "execution_count": null,
      "outputs": [
        {
          "output_type": "stream",
          "name": "stdout",
          "text": [
            "Shape of images in X_train: (2475, 224, 224, 3)\n",
            "Shape of images in X_test: (203, 224, 224, 3)\n",
            "Shape of images in X_val: (86, 224, 224, 3)\n",
            "Shape of images in y_train: (2475, 4)\n",
            "Shape of images in y_test: (203, 4)\n",
            "Shape of images in y_val: (86, 4)\n"
          ]
        }
      ]
    },
    {
      "cell_type": "code",
      "source": [
        "model = resnet.ResNet50(\n",
        "      input_shape = (224, 224, 3),\n",
        "      include_top = False,\n",
        "      weights = 'imagenet'\n",
        "    )"
      ],
      "metadata": {
        "colab": {
          "base_uri": "https://localhost:8080/"
        },
        "id": "ngK0zLPKKQh0",
        "outputId": "d6a53aa6-ed64-4dbe-90f4-d38063e9261a"
      },
      "execution_count": null,
      "outputs": [
        {
          "output_type": "stream",
          "name": "stdout",
          "text": [
            "Downloading data from https://storage.googleapis.com/tensorflow/keras-applications/resnet/resnet50_weights_tf_dim_ordering_tf_kernels_notop.h5\n",
            "94765736/94765736 [==============================] - 1s 0us/step\n"
          ]
        }
      ]
    },
    {
      "cell_type": "code",
      "source": [
        "for layers in model.layers:\n",
        "    layers.trainable = False\n",
        "\n",
        "topLayer = Flatten()(model.output)\n",
        "topLayer = Dropout(0.5)(topLayer)\n",
        "topLayer = Dense(4, activation = \"softmax\")(topLayer)\n",
        "model = keras.Model(model.input, topLayer)\n",
        "\n",
        "model.compile(loss = \"binary_crossentropy\", optimizer = \"adam\", metrics = [\n",
        "    'accuracy',\n",
        "    tf.keras.metrics.AUC(),\n",
        "    tf.keras.metrics.Recall(),\n",
        "    tf.keras.metrics.Precision(),\n",
        "    tf.keras.metrics.F1Score()])\n",
        "\n"
      ],
      "metadata": {
        "id": "n3f8BQ8dKcwC"
      },
      "execution_count": null,
      "outputs": []
    },
    {
      "cell_type": "code",
      "source": [
        "ESM = tf.keras.callbacks.EarlyStopping(patience=4, monitor='accuracy')\n",
        "rn = model.fit(X_train, y_train, validation_data=(X_val, y_val), epochs=30, verbose=1, callbacks=ESM)"
      ],
      "metadata": {
        "id": "nM-GcQSFLYTe"
      },
      "execution_count": null,
      "outputs": []
    },
    {
      "cell_type": "code",
      "source": [
        "model.evaluate(X_test, y_test)"
      ],
      "metadata": {
        "id": "WExGIcwAUvOL"
      },
      "execution_count": null,
      "outputs": []
    },
    {
      "cell_type": "code",
      "source": [
        "accuracy = rn.history['loss']\n",
        "validation_accuracy = rn.history['val_loss']\n",
        "\n",
        "epochs = range(len(accuracy))\n",
        "\n",
        "plt.plot(epochs, accuracy, 'r', label='Training Accuracy')\n",
        "plt.plot(epochs,  validation_accuracy, 'g', label=\"Validation Accuracy\")\n",
        "plt.legend(loc=0)\n",
        "\n",
        "plt.show()"
      ],
      "metadata": {
        "id": "mulA-IwDUz4a"
      },
      "execution_count": null,
      "outputs": []
    },
    {
      "cell_type": "code",
      "source": [
        "pred = model.predict(X_test)\n",
        "classPred = np.argmax(pred, axis=1)\n",
        "classLabel = np.argmax(y_test, axis=1)\n",
        "con_matrix = confusion_matrix(classLabel, classPred)\n",
        "\n",
        "plt.figure(figsize=(8, 6))\n",
        "sns.heatmap(con_matrix, annot=True, fmt='d', cmap='Reds',\n",
        "            xticklabels=['notumor','glioma', 'pituitary' ,'meningioma'],\n",
        "            yticklabels=['notumor','glioma', 'pituitary' ,'meningioma'])\n",
        "\n",
        "plt.xlabel('Predictions')\n",
        "plt.ylabel('Real')\n",
        "plt.title('Confusion Matrix')\n",
        "plt.show()"
      ],
      "metadata": {
        "id": "Ky-CNU94U3oL"
      },
      "execution_count": null,
      "outputs": []
    }
  ]
}